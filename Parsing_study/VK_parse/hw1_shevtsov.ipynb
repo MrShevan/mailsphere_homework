{
 "cells": [
  {
   "cell_type": "markdown",
   "metadata": {},
   "source": [
    "# Домашнее задание 1. Сбор данных"
   ]
  },
  {
   "cell_type": "markdown",
   "metadata": {},
   "source": [
    "При решении реальных задач мы почти никогда не имеем дело с \"хорошими\" исходными данными, уже подготовленными для обработки и анализа. Как правило на входе имеются неструкткрированные данные в \"грязном\" виде, например необработанные тексты, изображения или аудио файлы. Иногда нет даже этого, и данные приходится собирать из разных доступных источников: разнообразных баз данных, внешних сервисов и даже электронных таблиц. После того, как данные получены, их унифицируют, очищают от шума, преобразовывают в нужный вид и сохраняют для дальнейшего анализа. В одном из традиционных подходов к Data Mining этот процесс называется Extract-Transform-Load"
   ]
  },
  {
   "cell_type": "code",
   "execution_count": 1,
   "metadata": {},
   "outputs": [
    {
     "name": "stdout",
     "output_type": "stream",
     "text": [
      "Collecting folium (from -r requirements.txt (line 1))\n",
      "  Downloading folium-0.5.0.tar.gz (79kB)\n",
      "\u001b[K    100% |████████████████████████████████| 81kB 826kB/s ta 0:00:01\n",
      "\u001b[?25hCollecting vk (from -r requirements.txt (line 2))\n",
      "  Downloading vk-2.0.2.tar.gz\n",
      "Collecting branca (from folium->-r requirements.txt (line 1))\n",
      "  Downloading branca-0.2.0-py2-none-any.whl\n",
      "Requirement already satisfied: jinja2 in /home/anton/anaconda2/lib/python2.7/site-packages (from folium->-r requirements.txt (line 1))\n",
      "Requirement already satisfied: requests in /home/anton/anaconda2/lib/python2.7/site-packages (from folium->-r requirements.txt (line 1))\n",
      "Requirement already satisfied: six in /home/anton/anaconda2/lib/python2.7/site-packages (from folium->-r requirements.txt (line 1))\n",
      "Requirement already satisfied: MarkupSafe>=0.23 in /home/anton/anaconda2/lib/python2.7/site-packages (from jinja2->folium->-r requirements.txt (line 1))\n",
      "Requirement already satisfied: chardet<3.1.0,>=3.0.2 in /home/anton/anaconda2/lib/python2.7/site-packages (from requests->folium->-r requirements.txt (line 1))\n",
      "Requirement already satisfied: idna<2.7,>=2.5 in /home/anton/anaconda2/lib/python2.7/site-packages (from requests->folium->-r requirements.txt (line 1))\n",
      "Requirement already satisfied: urllib3<1.23,>=1.21.1 in /home/anton/anaconda2/lib/python2.7/site-packages (from requests->folium->-r requirements.txt (line 1))\n",
      "Requirement already satisfied: certifi>=2017.4.17 in /home/anton/anaconda2/lib/python2.7/site-packages (from requests->folium->-r requirements.txt (line 1))\n",
      "Building wheels for collected packages: folium, vk\n",
      "  Running setup.py bdist_wheel for folium ... \u001b[?25ldone\n",
      "\u001b[?25h  Stored in directory: /home/anton/.cache/pip/wheels/04/d0/a0/b2b8356443364ae79743fce0b9b6a5b045f7560742129fde22\n",
      "  Running setup.py bdist_wheel for vk ... \u001b[?25ldone\n",
      "\u001b[?25h  Stored in directory: /home/anton/.cache/pip/wheels/8d/e2/0c/056e125d54b4c9b2830ca6a7e6de00b36d416775da969abb94\n",
      "Successfully built folium vk\n",
      "Installing collected packages: branca, folium, vk\n",
      "Successfully installed branca-0.2.0 folium-0.5.0 vk-2.0.2\n"
     ]
    }
   ],
   "source": [
    "!pip install -r requirements.txt"
   ]
  },
  {
   "cell_type": "code",
   "execution_count": 36,
   "metadata": {
    "collapsed": true
   },
   "outputs": [],
   "source": [
    "import vk\n",
    "import folium\n",
    "import pandas as pd\n",
    "import matplotlib.pyplot as plt\n",
    "import seaborn as sns\n",
    "import datetime\n",
    "import numpy as np"
   ]
  },
  {
   "cell_type": "markdown",
   "metadata": {},
   "source": [
    "Нам потребуется загрузить информацию о местах, в которых совершаются чекины, иначе говоря провести сбор данных (data collection). [Ссылка на ВК для разработчиков](https://vk.com/dev)\n",
    "\n",
    "Для того, чтобы получить доступ к API прежде всего необходимо зарегистрироваться в VK в качестве разработчика и создать свое [приложение](https://vk.com/apps?act=manage). После создания приложения будет доступен набор ключей, которые мы будем использовать для аутентификации. Далее вам потребуется создать токен авторизации, чтобы получать доступ к API. Этот токен необходимо скопировать в соответствующие константы ниже. Подробнее о том, как работает аутентификация в VK API можно почитать [по ссылке](https://vk.com/dev/first_guide), хотя это нужно скорее для ознакомления: библиотека обращения с API позаботится о механизме аутентификации за нас."
   ]
  },
  {
   "cell_type": "code",
   "execution_count": 12,
   "metadata": {
    "collapsed": true
   },
   "outputs": [],
   "source": [
    "session = vk.Session()\n",
    "vk_api = vk.API(session)\n",
    "identifikator = vk_api.users.get(user_id=34077739) # пример получения данных без токена авторизации"
   ]
  },
  {
   "cell_type": "code",
   "execution_count": 13,
   "metadata": {
    "collapsed": true
   },
   "outputs": [],
   "source": [
    "token = \"12439807ca8586f458a7a127f206cdebcbdc514a8386488c137fe17d69c7d9d116250925db3703c80a4d6\"\n",
    "session = vk.Session(access_token=token)\n",
    "vkapi = vk.API(session=session)"
   ]
  },
  {
   "cell_type": "markdown",
   "metadata": {},
   "source": [
    "VK API может отдавать вам посещаемые места несколькими способами: в некотором радиусе от точки или же по id самого места. Мы будем пользоваться [вторым способом](https://vk.com/dev/places.getById) . Требуется написать функцию, которая на вход получает объект подключения к API и индекс, до какого объекта требуется запросить. Возвращать она будет pandas.DataFrame с полученными данными."
   ]
  },
  {
   "cell_type": "code",
   "execution_count": 14,
   "metadata": {
    "collapsed": true
   },
   "outputs": [],
   "source": [
    "def get_place_info(vkapi, idx=5000):\n",
    "    i = 1\n",
    "    count = idx\n",
    "    places = []\n",
    "    while (count > 0): # выгружаем последовательно по 1000 строк\n",
    "        if(count < 1500):\n",
    "            places_1 = vkapi.places.getById(places=xrange(i,i + count))\n",
    "        else:\n",
    "            places_1 = vkapi.places.getById(places=xrange(i,i + 1500))\n",
    "        places = places + places_1\n",
    "        i = i + 1500\n",
    "        count = count - 1500\n",
    "    df = pd.DataFrame(places)\n",
    "    return df"
   ]
  },
  {
   "cell_type": "markdown",
   "metadata": {},
   "source": [
    "Предположим, что мы хотим понять несколько фактов о выборке объектов с id от 1 до 15000.\n",
    "Помогите нам это сделать.\n",
    "А вот и сами факты:\n",
    "1. Провизуализируйте на карте все объекты которые находятся в Москве? Где больше объектов, в центре или на окраине?\n",
    "2. Посчитайте количество объектов разного типа. Постройте распределение? Объектов какого типа больше в данной выборке?\n",
    "3. Посчитайте распределение числа чекинов по всей выборке. Визуализируйте его.\n",
    "4. Постройте box plot по числу чекинов для каждого типа объектов.\n",
    "5. Преобразуйте поле created в datetime. Как давно были созданы объекты? Сколько объектов существует больше года? \n",
    "\n",
    "Не забудьте сохранить данную выборку, в будущем она вам понадобится."
   ]
  },
  {
   "cell_type": "markdown",
   "metadata": {},
   "source": [
    "## Выгружаем данные:"
   ]
  },
  {
   "cell_type": "code",
   "execution_count": 15,
   "metadata": {},
   "outputs": [
    {
     "data": {
      "text/html": [
       "<div>\n",
       "<style>\n",
       "    .dataframe thead tr:only-child th {\n",
       "        text-align: right;\n",
       "    }\n",
       "\n",
       "    .dataframe thead th {\n",
       "        text-align: left;\n",
       "    }\n",
       "\n",
       "    .dataframe tbody tr th {\n",
       "        vertical-align: top;\n",
       "    }\n",
       "</style>\n",
       "<table border=\"1\" class=\"dataframe\">\n",
       "  <thead>\n",
       "    <tr style=\"text-align: right;\">\n",
       "      <th></th>\n",
       "      <th>address</th>\n",
       "      <th>checkins</th>\n",
       "      <th>city</th>\n",
       "      <th>country</th>\n",
       "      <th>created</th>\n",
       "      <th>icon</th>\n",
       "      <th>latitude</th>\n",
       "      <th>longitude</th>\n",
       "      <th>pid</th>\n",
       "      <th>title</th>\n",
       "      <th>type</th>\n",
       "      <th>updated</th>\n",
       "    </tr>\n",
       "  </thead>\n",
       "  <tbody>\n",
       "    <tr>\n",
       "      <th>0</th>\n",
       "      <td>Мячковский б-р 3а</td>\n",
       "      <td>441</td>\n",
       "      <td>1.0</td>\n",
       "      <td>1</td>\n",
       "      <td>1280741941</td>\n",
       "      <td>https://vk.com/images/places/clubs.png</td>\n",
       "      <td>55.657941</td>\n",
       "      <td>37.751574</td>\n",
       "      <td>1</td>\n",
       "      <td>Baila Baila</td>\n",
       "      <td>4</td>\n",
       "      <td>1.507325e+09</td>\n",
       "    </tr>\n",
       "    <tr>\n",
       "      <th>1</th>\n",
       "      <td>Дачная 2а</td>\n",
       "      <td>16</td>\n",
       "      <td>123.0</td>\n",
       "      <td>1</td>\n",
       "      <td>1280741941</td>\n",
       "      <td>https://vk.com/images/places/clubs.png</td>\n",
       "      <td>53.202017</td>\n",
       "      <td>50.141377</td>\n",
       "      <td>2</td>\n",
       "      <td>Lust</td>\n",
       "      <td>4</td>\n",
       "      <td>1.507325e+09</td>\n",
       "    </tr>\n",
       "    <tr>\n",
       "      <th>2</th>\n",
       "      <td>Лени Голикова 29</td>\n",
       "      <td>7</td>\n",
       "      <td>2.0</td>\n",
       "      <td>1</td>\n",
       "      <td>1280741941</td>\n",
       "      <td>https://vk.com/images/places/clubs.png</td>\n",
       "      <td>59.843376</td>\n",
       "      <td>30.231480</td>\n",
       "      <td>3</td>\n",
       "      <td>Тайфун</td>\n",
       "      <td>4</td>\n",
       "      <td>1.486398e+09</td>\n",
       "    </tr>\n",
       "    <tr>\n",
       "      <th>3</th>\n",
       "      <td>Героев Танкограда 63</td>\n",
       "      <td>8</td>\n",
       "      <td>158.0</td>\n",
       "      <td>1</td>\n",
       "      <td>1280741941</td>\n",
       "      <td>https://vk.com/images/places/clubs.png</td>\n",
       "      <td>55.174954</td>\n",
       "      <td>61.451611</td>\n",
       "      <td>4</td>\n",
       "      <td>Hollywood</td>\n",
       "      <td>4</td>\n",
       "      <td>1.470157e+09</td>\n",
       "    </tr>\n",
       "    <tr>\n",
       "      <th>4</th>\n",
       "      <td>Мусы Джалиля 14К1</td>\n",
       "      <td>40</td>\n",
       "      <td>99.0</td>\n",
       "      <td>1</td>\n",
       "      <td>1280741941</td>\n",
       "      <td>https://vk.com/images/places/clubs.png</td>\n",
       "      <td>54.860834</td>\n",
       "      <td>83.091932</td>\n",
       "      <td>5</td>\n",
       "      <td>Барабас</td>\n",
       "      <td>4</td>\n",
       "      <td>1.502604e+09</td>\n",
       "    </tr>\n",
       "  </tbody>\n",
       "</table>\n",
       "</div>"
      ],
      "text/plain": [
       "                address  checkins   city  country     created  \\\n",
       "0     Мячковский б-р 3а       441    1.0        1  1280741941   \n",
       "1             Дачная 2а        16  123.0        1  1280741941   \n",
       "2      Лени Голикова 29         7    2.0        1  1280741941   \n",
       "3  Героев Танкограда 63         8  158.0        1  1280741941   \n",
       "4     Мусы Джалиля 14К1        40   99.0        1  1280741941   \n",
       "\n",
       "                                     icon   latitude  longitude  pid  \\\n",
       "0  https://vk.com/images/places/clubs.png  55.657941  37.751574    1   \n",
       "1  https://vk.com/images/places/clubs.png  53.202017  50.141377    2   \n",
       "2  https://vk.com/images/places/clubs.png  59.843376  30.231480    3   \n",
       "3  https://vk.com/images/places/clubs.png  55.174954  61.451611    4   \n",
       "4  https://vk.com/images/places/clubs.png  54.860834  83.091932    5   \n",
       "\n",
       "         title  type       updated  \n",
       "0  Baila Baila     4  1.507325e+09  \n",
       "1         Lust     4  1.507325e+09  \n",
       "2       Тайфун     4  1.486398e+09  \n",
       "3    Hollywood     4  1.470157e+09  \n",
       "4      Барабас     4  1.502604e+09  "
      ]
     },
     "execution_count": 15,
     "metadata": {},
     "output_type": "execute_result"
    }
   ],
   "source": [
    "df = get_place_info(vkapi, idx=15000)\n",
    "df.head()"
   ]
  },
  {
   "cell_type": "code",
   "execution_count": 16,
   "metadata": {},
   "outputs": [
    {
     "data": {
      "text/plain": [
       "(15000, 12)"
      ]
     },
     "execution_count": 16,
     "metadata": {},
     "output_type": "execute_result"
    }
   ],
   "source": [
    "df.shape # Все выгрузили правильно"
   ]
  },
  {
   "cell_type": "markdown",
   "metadata": {},
   "source": [
    "Судя по размеру, выгрузил правильно."
   ]
  },
  {
   "cell_type": "markdown",
   "metadata": {},
   "source": [
    "Сохраним эти данные,чтобы не выгружать постоянно:"
   ]
  },
  {
   "cell_type": "code",
   "execution_count": 27,
   "metadata": {
    "collapsed": true
   },
   "outputs": [],
   "source": [
    "df.to_csv('output.csv', sep='\\t',encoding='utf-8',index=False)"
   ]
  },
  {
   "cell_type": "code",
   "execution_count": 3,
   "metadata": {},
   "outputs": [
    {
     "data": {
      "text/plain": [
       "(15000, 12)"
      ]
     },
     "execution_count": 3,
     "metadata": {},
     "output_type": "execute_result"
    }
   ],
   "source": [
    "data = pd.read_csv('output.csv', sep='\\t',encoding='utf-8')\n",
    "data.shape"
   ]
  },
  {
   "cell_type": "code",
   "execution_count": 9,
   "metadata": {
    "collapsed": true
   },
   "outputs": [],
   "source": [
    "df = data"
   ]
  },
  {
   "cell_type": "code",
   "execution_count": 21,
   "metadata": {},
   "outputs": [
    {
     "data": {
      "text/html": [
       "<div>\n",
       "<style>\n",
       "    .dataframe thead tr:only-child th {\n",
       "        text-align: right;\n",
       "    }\n",
       "\n",
       "    .dataframe thead th {\n",
       "        text-align: left;\n",
       "    }\n",
       "\n",
       "    .dataframe tbody tr th {\n",
       "        vertical-align: top;\n",
       "    }\n",
       "</style>\n",
       "<table border=\"1\" class=\"dataframe\">\n",
       "  <thead>\n",
       "    <tr style=\"text-align: right;\">\n",
       "      <th></th>\n",
       "      <th>address</th>\n",
       "      <th>checkins</th>\n",
       "      <th>city</th>\n",
       "      <th>country</th>\n",
       "      <th>created</th>\n",
       "      <th>icon</th>\n",
       "      <th>latitude</th>\n",
       "      <th>longitude</th>\n",
       "      <th>pid</th>\n",
       "      <th>title</th>\n",
       "      <th>type</th>\n",
       "      <th>updated</th>\n",
       "    </tr>\n",
       "  </thead>\n",
       "  <tbody>\n",
       "    <tr>\n",
       "      <th>0</th>\n",
       "      <td>Мячковский б-р 3а</td>\n",
       "      <td>441</td>\n",
       "      <td>1.0</td>\n",
       "      <td>1</td>\n",
       "      <td>1280741941</td>\n",
       "      <td>https://vk.com/images/places/clubs.png</td>\n",
       "      <td>55.657941</td>\n",
       "      <td>37.751574</td>\n",
       "      <td>1</td>\n",
       "      <td>Baila Baila</td>\n",
       "      <td>4</td>\n",
       "      <td>1.507325e+09</td>\n",
       "    </tr>\n",
       "    <tr>\n",
       "      <th>1</th>\n",
       "      <td>Дачная 2а</td>\n",
       "      <td>16</td>\n",
       "      <td>123.0</td>\n",
       "      <td>1</td>\n",
       "      <td>1280741941</td>\n",
       "      <td>https://vk.com/images/places/clubs.png</td>\n",
       "      <td>53.202017</td>\n",
       "      <td>50.141377</td>\n",
       "      <td>2</td>\n",
       "      <td>Lust</td>\n",
       "      <td>4</td>\n",
       "      <td>1.507325e+09</td>\n",
       "    </tr>\n",
       "    <tr>\n",
       "      <th>2</th>\n",
       "      <td>Лени Голикова 29</td>\n",
       "      <td>7</td>\n",
       "      <td>2.0</td>\n",
       "      <td>1</td>\n",
       "      <td>1280741941</td>\n",
       "      <td>https://vk.com/images/places/clubs.png</td>\n",
       "      <td>59.843376</td>\n",
       "      <td>30.231480</td>\n",
       "      <td>3</td>\n",
       "      <td>Тайфун</td>\n",
       "      <td>4</td>\n",
       "      <td>1.486398e+09</td>\n",
       "    </tr>\n",
       "    <tr>\n",
       "      <th>3</th>\n",
       "      <td>Героев Танкограда 63</td>\n",
       "      <td>8</td>\n",
       "      <td>158.0</td>\n",
       "      <td>1</td>\n",
       "      <td>1280741941</td>\n",
       "      <td>https://vk.com/images/places/clubs.png</td>\n",
       "      <td>55.174954</td>\n",
       "      <td>61.451611</td>\n",
       "      <td>4</td>\n",
       "      <td>Hollywood</td>\n",
       "      <td>4</td>\n",
       "      <td>1.470157e+09</td>\n",
       "    </tr>\n",
       "    <tr>\n",
       "      <th>4</th>\n",
       "      <td>Мусы Джалиля 14К1</td>\n",
       "      <td>40</td>\n",
       "      <td>99.0</td>\n",
       "      <td>1</td>\n",
       "      <td>1280741941</td>\n",
       "      <td>https://vk.com/images/places/clubs.png</td>\n",
       "      <td>54.860834</td>\n",
       "      <td>83.091932</td>\n",
       "      <td>5</td>\n",
       "      <td>Барабас</td>\n",
       "      <td>4</td>\n",
       "      <td>1.502604e+09</td>\n",
       "    </tr>\n",
       "    <tr>\n",
       "      <th>5</th>\n",
       "      <td>Мусы Джалиля 14</td>\n",
       "      <td>6</td>\n",
       "      <td>99.0</td>\n",
       "      <td>1</td>\n",
       "      <td>1280741941</td>\n",
       "      <td>https://vk.com/images/places/clubs.png</td>\n",
       "      <td>54.861114</td>\n",
       "      <td>83.091415</td>\n",
       "      <td>6</td>\n",
       "      <td>Опера</td>\n",
       "      <td>4</td>\n",
       "      <td>1.471622e+09</td>\n",
       "    </tr>\n",
       "    <tr>\n",
       "      <th>6</th>\n",
       "      <td>Труда 153</td>\n",
       "      <td>15</td>\n",
       "      <td>158.0</td>\n",
       "      <td>1</td>\n",
       "      <td>1280741941</td>\n",
       "      <td>https://vk.com/images/places/clubs.png</td>\n",
       "      <td>55.166948</td>\n",
       "      <td>61.395017</td>\n",
       "      <td>7</td>\n",
       "      <td>Малахит</td>\n",
       "      <td>4</td>\n",
       "      <td>1.470755e+09</td>\n",
       "    </tr>\n",
       "    <tr>\n",
       "      <th>7</th>\n",
       "      <td>Сони Кривой 81</td>\n",
       "      <td>3</td>\n",
       "      <td>158.0</td>\n",
       "      <td>1</td>\n",
       "      <td>1280741941</td>\n",
       "      <td>https://vk.com/images/places/clubs.png</td>\n",
       "      <td>55.157006</td>\n",
       "      <td>61.365395</td>\n",
       "      <td>8</td>\n",
       "      <td>Полет</td>\n",
       "      <td>4</td>\n",
       "      <td>1.455943e+09</td>\n",
       "    </tr>\n",
       "    <tr>\n",
       "      <th>8</th>\n",
       "      <td>просп. Ленина 66а</td>\n",
       "      <td>198</td>\n",
       "      <td>158.0</td>\n",
       "      <td>1</td>\n",
       "      <td>1280741941</td>\n",
       "      <td>https://vk.com/images/places/clubs.png</td>\n",
       "      <td>55.160365</td>\n",
       "      <td>61.380302</td>\n",
       "      <td>9</td>\n",
       "      <td>Уральские пельмени</td>\n",
       "      <td>4</td>\n",
       "      <td>1.507461e+09</td>\n",
       "    </tr>\n",
       "    <tr>\n",
       "      <th>9</th>\n",
       "      <td>Гурьянова 31</td>\n",
       "      <td>14</td>\n",
       "      <td>1.0</td>\n",
       "      <td>1</td>\n",
       "      <td>1280741941</td>\n",
       "      <td>https://vk.com/images/places/clubs.png</td>\n",
       "      <td>55.684858</td>\n",
       "      <td>37.718300</td>\n",
       "      <td>10</td>\n",
       "      <td>Salvador Dali</td>\n",
       "      <td>4</td>\n",
       "      <td>1.498625e+09</td>\n",
       "    </tr>\n",
       "  </tbody>\n",
       "</table>\n",
       "</div>"
      ],
      "text/plain": [
       "                address  checkins   city  country     created  \\\n",
       "0     Мячковский б-р 3а       441    1.0        1  1280741941   \n",
       "1             Дачная 2а        16  123.0        1  1280741941   \n",
       "2      Лени Голикова 29         7    2.0        1  1280741941   \n",
       "3  Героев Танкограда 63         8  158.0        1  1280741941   \n",
       "4     Мусы Джалиля 14К1        40   99.0        1  1280741941   \n",
       "5       Мусы Джалиля 14         6   99.0        1  1280741941   \n",
       "6             Труда 153        15  158.0        1  1280741941   \n",
       "7        Сони Кривой 81         3  158.0        1  1280741941   \n",
       "8     просп. Ленина 66а       198  158.0        1  1280741941   \n",
       "9          Гурьянова 31        14    1.0        1  1280741941   \n",
       "\n",
       "                                     icon   latitude  longitude  pid  \\\n",
       "0  https://vk.com/images/places/clubs.png  55.657941  37.751574    1   \n",
       "1  https://vk.com/images/places/clubs.png  53.202017  50.141377    2   \n",
       "2  https://vk.com/images/places/clubs.png  59.843376  30.231480    3   \n",
       "3  https://vk.com/images/places/clubs.png  55.174954  61.451611    4   \n",
       "4  https://vk.com/images/places/clubs.png  54.860834  83.091932    5   \n",
       "5  https://vk.com/images/places/clubs.png  54.861114  83.091415    6   \n",
       "6  https://vk.com/images/places/clubs.png  55.166948  61.395017    7   \n",
       "7  https://vk.com/images/places/clubs.png  55.157006  61.365395    8   \n",
       "8  https://vk.com/images/places/clubs.png  55.160365  61.380302    9   \n",
       "9  https://vk.com/images/places/clubs.png  55.684858  37.718300   10   \n",
       "\n",
       "                title  type       updated  \n",
       "0         Baila Baila     4  1.507325e+09  \n",
       "1                Lust     4  1.507325e+09  \n",
       "2              Тайфун     4  1.486398e+09  \n",
       "3           Hollywood     4  1.470157e+09  \n",
       "4             Барабас     4  1.502604e+09  \n",
       "5               Опера     4  1.471622e+09  \n",
       "6             Малахит     4  1.470755e+09  \n",
       "7               Полет     4  1.455943e+09  \n",
       "8  Уральские пельмени     4  1.507461e+09  \n",
       "9       Salvador Dali     4  1.498625e+09  "
      ]
     },
     "execution_count": 21,
     "metadata": {},
     "output_type": "execute_result"
    }
   ],
   "source": [
    "data.head(10)"
   ]
  },
  {
   "cell_type": "code",
   "execution_count": 119,
   "metadata": {},
   "outputs": [
    {
     "name": "stdout",
     "output_type": "stream",
     "text": [
      "<class 'pandas.core.frame.DataFrame'>\n",
      "RangeIndex: 15000 entries, 0 to 14999\n",
      "Data columns (total 12 columns):\n",
      "address      14610 non-null object\n",
      "checkins     15000 non-null int64\n",
      "city         14924 non-null float64\n",
      "country      15000 non-null int64\n",
      "created      15000 non-null int64\n",
      "icon         15000 non-null object\n",
      "latitude     15000 non-null float64\n",
      "longitude    15000 non-null float64\n",
      "pid          15000 non-null int64\n",
      "title        15000 non-null object\n",
      "type         15000 non-null int64\n",
      "updated      12721 non-null float64\n",
      "dtypes: float64(4), int64(5), object(3)\n",
      "memory usage: 1.4+ MB\n"
     ]
    }
   ],
   "source": [
    "df.info()"
   ]
  },
  {
   "cell_type": "code",
   "execution_count": 5,
   "metadata": {
    "collapsed": true
   },
   "outputs": [],
   "source": [
    "from folium.plugins import MarkerCluster\n",
    "%matplotlib inline"
   ]
  },
  {
   "cell_type": "markdown",
   "metadata": {
    "collapsed": true
   },
   "source": [
    "## 1). Визуализация на карте"
   ]
  },
  {
   "cell_type": "code",
   "execution_count": 335,
   "metadata": {
    "collapsed": true
   },
   "outputs": [],
   "source": [
    "mos_center = [55.750475, 37.619020]\n",
    "mos_min_lat, mos_max_lat = 55.564141, 55.908930\n",
    "mos_min_lon, mos_max_lon = 37.344362, 37.879945\n",
    "#data_moscow = data[data.latitude.between(mos_min_lat, mos_max_lat) &\n",
    "#                   data.longitude.between(mos_min_lon, mos_max_lon)]\n",
    "Moscow = folium.Map(location = mos_center, zoom_start=11, control_scale=True) # Зададим локацию: Центр Москвы"
   ]
  },
  {
   "cell_type": "markdown",
   "metadata": {},
   "source": [
    "Первый способ отбора Москвы:"
   ]
  },
  {
   "cell_type": "code",
   "execution_count": 336,
   "metadata": {},
   "outputs": [
    {
     "name": "stderr",
     "output_type": "stream",
     "text": [
      "/home/anton/anaconda2/lib/python2.7/site-packages/ipykernel_launcher.py:1: UserWarning:\n",
      "\n",
      "Boolean Series key will be reindexed to match DataFrame index.\n",
      "\n"
     ]
    }
   ],
   "source": [
    "df_Moscow = df[df['latitude'] > mos_min_lat][df['latitude'] < mos_max_lat][df['longitude']>mos_min_lon][df['longitude'] < mos_max_lon]"
   ]
  },
  {
   "cell_type": "code",
   "execution_count": 337,
   "metadata": {},
   "outputs": [
    {
     "data": {
      "text/plain": [
       "(4339, 12)"
      ]
     },
     "execution_count": 337,
     "metadata": {},
     "output_type": "execute_result"
    }
   ],
   "source": [
    "df_Moscow.shape"
   ]
  },
  {
   "cell_type": "code",
   "execution_count": 338,
   "metadata": {},
   "outputs": [
    {
     "data": {
      "text/html": [
       "<div>\n",
       "<style>\n",
       "    .dataframe thead tr:only-child th {\n",
       "        text-align: right;\n",
       "    }\n",
       "\n",
       "    .dataframe thead th {\n",
       "        text-align: left;\n",
       "    }\n",
       "\n",
       "    .dataframe tbody tr th {\n",
       "        vertical-align: top;\n",
       "    }\n",
       "</style>\n",
       "<table border=\"1\" class=\"dataframe\">\n",
       "  <thead>\n",
       "    <tr style=\"text-align: right;\">\n",
       "      <th></th>\n",
       "      <th>address</th>\n",
       "      <th>checkins</th>\n",
       "      <th>city</th>\n",
       "      <th>country</th>\n",
       "      <th>created</th>\n",
       "      <th>icon</th>\n",
       "      <th>latitude</th>\n",
       "      <th>longitude</th>\n",
       "      <th>pid</th>\n",
       "      <th>title</th>\n",
       "      <th>type</th>\n",
       "      <th>updated</th>\n",
       "    </tr>\n",
       "  </thead>\n",
       "  <tbody>\n",
       "    <tr>\n",
       "      <th>0</th>\n",
       "      <td>Мячковский б-р 3а</td>\n",
       "      <td>441</td>\n",
       "      <td>1.0</td>\n",
       "      <td>1</td>\n",
       "      <td>2010-08-02 13:39:01</td>\n",
       "      <td>https://vk.com/images/places/clubs.png</td>\n",
       "      <td>55.657941</td>\n",
       "      <td>37.751574</td>\n",
       "      <td>1</td>\n",
       "      <td>Baila Baila</td>\n",
       "      <td>4</td>\n",
       "      <td>1.507325e+09</td>\n",
       "    </tr>\n",
       "    <tr>\n",
       "      <th>9</th>\n",
       "      <td>Гурьянова 31</td>\n",
       "      <td>14</td>\n",
       "      <td>1.0</td>\n",
       "      <td>1</td>\n",
       "      <td>2010-08-02 13:39:01</td>\n",
       "      <td>https://vk.com/images/places/clubs.png</td>\n",
       "      <td>55.684858</td>\n",
       "      <td>37.718300</td>\n",
       "      <td>10</td>\n",
       "      <td>Salvador Dali</td>\n",
       "      <td>4</td>\n",
       "      <td>1.498625e+09</td>\n",
       "    </tr>\n",
       "    <tr>\n",
       "      <th>14</th>\n",
       "      <td>2-я Брестская 6</td>\n",
       "      <td>5</td>\n",
       "      <td>1.0</td>\n",
       "      <td>1</td>\n",
       "      <td>2010-08-02 13:39:01</td>\n",
       "      <td>https://vk.com/images/places/clubs.png</td>\n",
       "      <td>55.770968</td>\n",
       "      <td>37.591562</td>\n",
       "      <td>15</td>\n",
       "      <td>Моспроект</td>\n",
       "      <td>4</td>\n",
       "      <td>1.444137e+09</td>\n",
       "    </tr>\n",
       "    <tr>\n",
       "      <th>19</th>\n",
       "      <td>Лубянский пр. 25К1</td>\n",
       "      <td>0</td>\n",
       "      <td>1.0</td>\n",
       "      <td>1</td>\n",
       "      <td>2010-08-02 13:39:01</td>\n",
       "      <td>https://vk.com/images/places/clubs.png</td>\n",
       "      <td>55.757116</td>\n",
       "      <td>37.631460</td>\n",
       "      <td>20</td>\n",
       "      <td>Дом Кукера</td>\n",
       "      <td>4</td>\n",
       "      <td>1.344699e+09</td>\n",
       "    </tr>\n",
       "    <tr>\n",
       "      <th>21</th>\n",
       "      <td>Новослободская 26</td>\n",
       "      <td>2</td>\n",
       "      <td>1.0</td>\n",
       "      <td>1</td>\n",
       "      <td>2010-08-02 13:39:01</td>\n",
       "      <td>https://vk.com/images/places/clubs.png</td>\n",
       "      <td>55.783104</td>\n",
       "      <td>37.598025</td>\n",
       "      <td>22</td>\n",
       "      <td>Хроника-бар</td>\n",
       "      <td>4</td>\n",
       "      <td>1.398173e+09</td>\n",
       "    </tr>\n",
       "  </tbody>\n",
       "</table>\n",
       "</div>"
      ],
      "text/plain": [
       "               address  checkins  city  country             created  \\\n",
       "0    Мячковский б-р 3а       441   1.0        1 2010-08-02 13:39:01   \n",
       "9         Гурьянова 31        14   1.0        1 2010-08-02 13:39:01   \n",
       "14     2-я Брестская 6         5   1.0        1 2010-08-02 13:39:01   \n",
       "19  Лубянский пр. 25К1         0   1.0        1 2010-08-02 13:39:01   \n",
       "21   Новослободская 26         2   1.0        1 2010-08-02 13:39:01   \n",
       "\n",
       "                                      icon   latitude  longitude  pid  \\\n",
       "0   https://vk.com/images/places/clubs.png  55.657941  37.751574    1   \n",
       "9   https://vk.com/images/places/clubs.png  55.684858  37.718300   10   \n",
       "14  https://vk.com/images/places/clubs.png  55.770968  37.591562   15   \n",
       "19  https://vk.com/images/places/clubs.png  55.757116  37.631460   20   \n",
       "21  https://vk.com/images/places/clubs.png  55.783104  37.598025   22   \n",
       "\n",
       "            title  type       updated  \n",
       "0     Baila Baila     4  1.507325e+09  \n",
       "9   Salvador Dali     4  1.498625e+09  \n",
       "14      Моспроект     4  1.444137e+09  \n",
       "19     Дом Кукера     4  1.344699e+09  \n",
       "21    Хроника-бар     4  1.398173e+09  "
      ]
     },
     "execution_count": 338,
     "metadata": {},
     "output_type": "execute_result"
    }
   ],
   "source": [
    "df_Moscow.head()"
   ]
  },
  {
   "cell_type": "markdown",
   "metadata": {},
   "source": [
    "Выберем те адреса, которые находятся в Москве:"
   ]
  },
  {
   "cell_type": "code",
   "execution_count": 356,
   "metadata": {
    "collapsed": true
   },
   "outputs": [],
   "source": [
    "Places_cluster = MarkerCluster(locations=df_Moscow[['latitude', 'longitude']].values)"
   ]
  },
  {
   "cell_type": "code",
   "execution_count": 357,
   "metadata": {},
   "outputs": [
    {
     "data": {
      "text/plain": [
       "<folium.plugins.marker_cluster.MarkerCluster at 0x7f4f2c4b83d0>"
      ]
     },
     "execution_count": 357,
     "metadata": {},
     "output_type": "execute_result"
    }
   ],
   "source": [
    "Places_cluster.add_to(Moscow)"
   ]
  },
  {
   "cell_type": "code",
   "execution_count": 360,
   "metadata": {
    "scrolled": true
   },
   "outputs": [
    {
     "name": "stderr",
     "output_type": "stream",
     "text": [
      "IOPub data rate exceeded.\n",
      "The notebook server will temporarily stop sending output\n",
      "to the client in order to avoid crashing it.\n",
      "To change this limit, set the config variable\n",
      "`--NotebookApp.iopub_data_rate_limit`.\n"
     ]
    }
   ],
   "source": [
    "Moscow"
   ]
  },
  {
   "cell_type": "markdown",
   "metadata": {},
   "source": [
    "Второй способ:"
   ]
  },
  {
   "cell_type": "code",
   "execution_count": 342,
   "metadata": {
    "collapsed": true
   },
   "outputs": [],
   "source": [
    "# Функция локализации точки относительно многоугольника-Москвы (Важно: Оси инвертированы)\n",
    "def rotate(A,B,C):\n",
    "    return (B[0]-A[0])*(C[1]-B[1])-(B[1]-A[1])*(C[0]-B[0])\n",
    "\n",
    "def intersect(A,B,C,D):\n",
    "    return rotate(A,B,C)*rotate(A,B,D)<=0 and rotate(C,D,A)*rotate(C,D,B)<0\n",
    "\n",
    "def pointloc(P,A): # O(log N)\n",
    "    n = len(P)\n",
    "    if rotate(P[1],P[0],A)>0 or rotate(P[n-1],P[0],A)<0:\n",
    "        return False\n",
    "    p, r = 1, n-1\n",
    "    while r-p>1:\n",
    "        q = (p+r)//2\n",
    "        if rotate(P[0],P[q],A)<0: r = q\n",
    "        else: p = q\n",
    "    return not intersect(P[0],A,P[r],P[p])"
   ]
  },
  {
   "cell_type": "code",
   "execution_count": 276,
   "metadata": {
    "collapsed": true
   },
   "outputs": [],
   "source": [
    "Moscow_polygon = np.array([(55.54, 37.33),\n",
    "                           (55.91006, 37.337365),\n",
    "                           (55.911057, 37.844595),\n",
    "                           (55.544522, 37.870801)]) \n"
   ]
  },
  {
   "cell_type": "code",
   "execution_count": 343,
   "metadata": {},
   "outputs": [
    {
     "data": {
      "text/plain": [
       "True"
      ]
     },
     "execution_count": 343,
     "metadata": {},
     "output_type": "execute_result"
    }
   ],
   "source": [
    "pointloc(Moscow_polygon,mos_center) # локализация центра"
   ]
  },
  {
   "cell_type": "markdown",
   "metadata": {},
   "source": [
    "## 2)"
   ]
  },
  {
   "cell_type": "code",
   "execution_count": 74,
   "metadata": {},
   "outputs": [
    {
     "name": "stdout",
     "output_type": "stream",
     "text": [
      "[ 4  3  5  2  7  9 10  1  8  6]\n",
      "10\n"
     ]
    }
   ],
   "source": [
    "df_unique_types = pd.unique(df['type'])\n",
    "print df_unique_types # какие типы есть\n",
    "print len(df_unique_types) # количество типов"
   ]
  },
  {
   "cell_type": "code",
   "execution_count": 75,
   "metadata": {},
   "outputs": [
    {
     "data": {
      "text/html": [
       "<div>\n",
       "<style>\n",
       "    .dataframe thead tr:only-child th {\n",
       "        text-align: right;\n",
       "    }\n",
       "\n",
       "    .dataframe thead th {\n",
       "        text-align: left;\n",
       "    }\n",
       "\n",
       "    .dataframe tbody tr th {\n",
       "        vertical-align: top;\n",
       "    }\n",
       "</style>\n",
       "<table border=\"1\" class=\"dataframe\">\n",
       "  <thead>\n",
       "    <tr style=\"text-align: right;\">\n",
       "      <th></th>\n",
       "      <th>title</th>\n",
       "    </tr>\n",
       "    <tr>\n",
       "      <th>type</th>\n",
       "      <th></th>\n",
       "    </tr>\n",
       "  </thead>\n",
       "  <tbody>\n",
       "    <tr>\n",
       "      <th>1</th>\n",
       "      <td>1242</td>\n",
       "    </tr>\n",
       "    <tr>\n",
       "      <th>2</th>\n",
       "      <td>90</td>\n",
       "    </tr>\n",
       "    <tr>\n",
       "      <th>3</th>\n",
       "      <td>10936</td>\n",
       "    </tr>\n",
       "    <tr>\n",
       "      <th>4</th>\n",
       "      <td>1626</td>\n",
       "    </tr>\n",
       "    <tr>\n",
       "      <th>5</th>\n",
       "      <td>512</td>\n",
       "    </tr>\n",
       "    <tr>\n",
       "      <th>6</th>\n",
       "      <td>9</td>\n",
       "    </tr>\n",
       "    <tr>\n",
       "      <th>7</th>\n",
       "      <td>90</td>\n",
       "    </tr>\n",
       "    <tr>\n",
       "      <th>8</th>\n",
       "      <td>13</td>\n",
       "    </tr>\n",
       "    <tr>\n",
       "      <th>9</th>\n",
       "      <td>183</td>\n",
       "    </tr>\n",
       "    <tr>\n",
       "      <th>10</th>\n",
       "      <td>299</td>\n",
       "    </tr>\n",
       "  </tbody>\n",
       "</table>\n",
       "</div>"
      ],
      "text/plain": [
       "      title\n",
       "type       \n",
       "1      1242\n",
       "2        90\n",
       "3     10936\n",
       "4      1626\n",
       "5       512\n",
       "6         9\n",
       "7        90\n",
       "8        13\n",
       "9       183\n",
       "10      299"
      ]
     },
     "execution_count": 75,
     "metadata": {},
     "output_type": "execute_result"
    }
   ],
   "source": [
    "b = df.groupby('type')['title'].count()\n",
    "df_density_type = pd.DataFrame(b)\n",
    "df_density_type # сколько раз встречается название для такого типа"
   ]
  },
  {
   "cell_type": "code",
   "execution_count": 90,
   "metadata": {},
   "outputs": [
    {
     "data": {
      "text/plain": [
       "<matplotlib.axes._subplots.AxesSubplot at 0x7f4f369cf990>"
      ]
     },
     "execution_count": 90,
     "metadata": {},
     "output_type": "execute_result"
    },
    {
     "data": {
      "image/png": "[encoded data removed]",
      "text/plain": [
       "<matplotlib.figure.Figure at 0x7f4f36c8a210>"
      ]
     },
     "metadata": {},
     "output_type": "display_data"
    }
   ],
   "source": [
    "df_density_type.plot(kind='bar')"
   ]
  },
  {
   "cell_type": "markdown",
   "metadata": {},
   "source": [
    "Посмотрим что это за тип объектов, которых больше всего:"
   ]
  },
  {
   "cell_type": "code",
   "execution_count": 89,
   "metadata": {},
   "outputs": [
    {
     "data": {
      "text/html": [
       "<div>\n",
       "<style>\n",
       "    .dataframe thead tr:only-child th {\n",
       "        text-align: right;\n",
       "    }\n",
       "\n",
       "    .dataframe thead th {\n",
       "        text-align: left;\n",
       "    }\n",
       "\n",
       "    .dataframe tbody tr th {\n",
       "        vertical-align: top;\n",
       "    }\n",
       "</style>\n",
       "<table border=\"1\" class=\"dataframe\">\n",
       "  <thead>\n",
       "    <tr style=\"text-align: right;\">\n",
       "      <th></th>\n",
       "      <th>address</th>\n",
       "      <th>checkins</th>\n",
       "      <th>city</th>\n",
       "      <th>country</th>\n",
       "      <th>created</th>\n",
       "      <th>icon</th>\n",
       "      <th>latitude</th>\n",
       "      <th>longitude</th>\n",
       "      <th>pid</th>\n",
       "      <th>title</th>\n",
       "      <th>type</th>\n",
       "      <th>updated</th>\n",
       "    </tr>\n",
       "  </thead>\n",
       "  <tbody>\n",
       "    <tr>\n",
       "      <th>1296</th>\n",
       "      <td>просп. Стачек 99</td>\n",
       "      <td>0</td>\n",
       "      <td>2.0</td>\n",
       "      <td>1</td>\n",
       "      <td>1280742023</td>\n",
       "      <td>https://vk.com/images/places/restaraunt.png</td>\n",
       "      <td>59.858697</td>\n",
       "      <td>30.249267</td>\n",
       "      <td>1297</td>\n",
       "      <td>У Швейка. Супы и сосиски</td>\n",
       "      <td>3</td>\n",
       "      <td>NaN</td>\n",
       "    </tr>\n",
       "    <tr>\n",
       "      <th>1297</th>\n",
       "      <td>Кольский просп. 27</td>\n",
       "      <td>25</td>\n",
       "      <td>87.0</td>\n",
       "      <td>1</td>\n",
       "      <td>1280742023</td>\n",
       "      <td>https://vk.com/images/places/restaraunt.png</td>\n",
       "      <td>68.944536</td>\n",
       "      <td>33.099226</td>\n",
       "      <td>1298</td>\n",
       "      <td>Сфера</td>\n",
       "      <td>3</td>\n",
       "      <td>1.505578e+09</td>\n",
       "    </tr>\n",
       "    <tr>\n",
       "      <th>1298</th>\n",
       "      <td>Татарстан 3К2</td>\n",
       "      <td>0</td>\n",
       "      <td>60.0</td>\n",
       "      <td>1</td>\n",
       "      <td>1280742023</td>\n",
       "      <td>https://vk.com/images/places/restaraunt.png</td>\n",
       "      <td>55.786764</td>\n",
       "      <td>49.122853</td>\n",
       "      <td>1299</td>\n",
       "      <td>Афродита</td>\n",
       "      <td>3</td>\n",
       "      <td>NaN</td>\n",
       "    </tr>\n",
       "    <tr>\n",
       "      <th>1299</th>\n",
       "      <td>Академика Павлова 14</td>\n",
       "      <td>0</td>\n",
       "      <td>2.0</td>\n",
       "      <td>1</td>\n",
       "      <td>1280742023</td>\n",
       "      <td>https://vk.com/images/places/restaraunt.png</td>\n",
       "      <td>59.976220</td>\n",
       "      <td>30.309544</td>\n",
       "      <td>1300</td>\n",
       "      <td>Ажур</td>\n",
       "      <td>3</td>\n",
       "      <td>NaN</td>\n",
       "    </tr>\n",
       "    <tr>\n",
       "      <th>1300</th>\n",
       "      <td>Шенкурский пр. 14</td>\n",
       "      <td>0</td>\n",
       "      <td>1.0</td>\n",
       "      <td>1</td>\n",
       "      <td>1280742023</td>\n",
       "      <td>https://vk.com/images/places/restaraunt.png</td>\n",
       "      <td>55.897670</td>\n",
       "      <td>37.591566</td>\n",
       "      <td>1301</td>\n",
       "      <td>Остапчик</td>\n",
       "      <td>3</td>\n",
       "      <td>1.336479e+09</td>\n",
       "    </tr>\n",
       "  </tbody>\n",
       "</table>\n",
       "</div>"
      ],
      "text/plain": [
       "                   address  checkins  city  country     created  \\\n",
       "1296      просп. Стачек 99         0   2.0        1  1280742023   \n",
       "1297    Кольский просп. 27        25  87.0        1  1280742023   \n",
       "1298         Татарстан 3К2         0  60.0        1  1280742023   \n",
       "1299  Академика Павлова 14         0   2.0        1  1280742023   \n",
       "1300     Шенкурский пр. 14         0   1.0        1  1280742023   \n",
       "\n",
       "                                             icon   latitude  longitude   pid  \\\n",
       "1296  https://vk.com/images/places/restaraunt.png  59.858697  30.249267  1297   \n",
       "1297  https://vk.com/images/places/restaraunt.png  68.944536  33.099226  1298   \n",
       "1298  https://vk.com/images/places/restaraunt.png  55.786764  49.122853  1299   \n",
       "1299  https://vk.com/images/places/restaraunt.png  59.976220  30.309544  1300   \n",
       "1300  https://vk.com/images/places/restaraunt.png  55.897670  37.591566  1301   \n",
       "\n",
       "                         title  type       updated  \n",
       "1296  У Швейка. Супы и сосиски     3           NaN  \n",
       "1297                     Сфера     3  1.505578e+09  \n",
       "1298                  Афродита     3           NaN  \n",
       "1299                      Ажур     3           NaN  \n",
       "1300                  Остапчик     3  1.336479e+09  "
      ]
     },
     "execution_count": 89,
     "metadata": {},
     "output_type": "execute_result"
    }
   ],
   "source": [
    "df_type3 = df[df['type'] == 3]\n",
    "df_type3.head()"
   ]
  },
  {
   "cell_type": "markdown",
   "metadata": {},
   "source": [
    "Как видно из названий и строке '/places/restaraunt.png' в адресе, третий тип это рестораны"
   ]
  },
  {
   "cell_type": "markdown",
   "metadata": {},
   "source": [
    "## 3)"
   ]
  },
  {
   "cell_type": "code",
   "execution_count": 92,
   "metadata": {},
   "outputs": [
    {
     "data": {
      "text/html": [
       "<div>\n",
       "<style>\n",
       "    .dataframe thead tr:only-child th {\n",
       "        text-align: right;\n",
       "    }\n",
       "\n",
       "    .dataframe thead th {\n",
       "        text-align: left;\n",
       "    }\n",
       "\n",
       "    .dataframe tbody tr th {\n",
       "        vertical-align: top;\n",
       "    }\n",
       "</style>\n",
       "<table border=\"1\" class=\"dataframe\">\n",
       "  <thead>\n",
       "    <tr style=\"text-align: right;\">\n",
       "      <th></th>\n",
       "      <th>title</th>\n",
       "    </tr>\n",
       "    <tr>\n",
       "      <th>checkins</th>\n",
       "      <th></th>\n",
       "    </tr>\n",
       "  </thead>\n",
       "  <tbody>\n",
       "    <tr>\n",
       "      <th>0</th>\n",
       "      <td>3989</td>\n",
       "    </tr>\n",
       "    <tr>\n",
       "      <th>1</th>\n",
       "      <td>1398</td>\n",
       "    </tr>\n",
       "    <tr>\n",
       "      <th>2</th>\n",
       "      <td>1123</td>\n",
       "    </tr>\n",
       "    <tr>\n",
       "      <th>3</th>\n",
       "      <td>902</td>\n",
       "    </tr>\n",
       "    <tr>\n",
       "      <th>4</th>\n",
       "      <td>747</td>\n",
       "    </tr>\n",
       "    <tr>\n",
       "      <th>5</th>\n",
       "      <td>536</td>\n",
       "    </tr>\n",
       "    <tr>\n",
       "      <th>6</th>\n",
       "      <td>479</td>\n",
       "    </tr>\n",
       "    <tr>\n",
       "      <th>7</th>\n",
       "      <td>450</td>\n",
       "    </tr>\n",
       "    <tr>\n",
       "      <th>8</th>\n",
       "      <td>335</td>\n",
       "    </tr>\n",
       "    <tr>\n",
       "      <th>9</th>\n",
       "      <td>289</td>\n",
       "    </tr>\n",
       "    <tr>\n",
       "      <th>10</th>\n",
       "      <td>282</td>\n",
       "    </tr>\n",
       "    <tr>\n",
       "      <th>11</th>\n",
       "      <td>205</td>\n",
       "    </tr>\n",
       "    <tr>\n",
       "      <th>12</th>\n",
       "      <td>205</td>\n",
       "    </tr>\n",
       "    <tr>\n",
       "      <th>13</th>\n",
       "      <td>167</td>\n",
       "    </tr>\n",
       "    <tr>\n",
       "      <th>14</th>\n",
       "      <td>152</td>\n",
       "    </tr>\n",
       "    <tr>\n",
       "      <th>15</th>\n",
       "      <td>148</td>\n",
       "    </tr>\n",
       "    <tr>\n",
       "      <th>16</th>\n",
       "      <td>134</td>\n",
       "    </tr>\n",
       "    <tr>\n",
       "      <th>17</th>\n",
       "      <td>125</td>\n",
       "    </tr>\n",
       "    <tr>\n",
       "      <th>18</th>\n",
       "      <td>102</td>\n",
       "    </tr>\n",
       "    <tr>\n",
       "      <th>19</th>\n",
       "      <td>117</td>\n",
       "    </tr>\n",
       "    <tr>\n",
       "      <th>20</th>\n",
       "      <td>112</td>\n",
       "    </tr>\n",
       "    <tr>\n",
       "      <th>21</th>\n",
       "      <td>79</td>\n",
       "    </tr>\n",
       "    <tr>\n",
       "      <th>22</th>\n",
       "      <td>77</td>\n",
       "    </tr>\n",
       "    <tr>\n",
       "      <th>23</th>\n",
       "      <td>96</td>\n",
       "    </tr>\n",
       "    <tr>\n",
       "      <th>24</th>\n",
       "      <td>66</td>\n",
       "    </tr>\n",
       "    <tr>\n",
       "      <th>25</th>\n",
       "      <td>83</td>\n",
       "    </tr>\n",
       "    <tr>\n",
       "      <th>26</th>\n",
       "      <td>63</td>\n",
       "    </tr>\n",
       "    <tr>\n",
       "      <th>27</th>\n",
       "      <td>61</td>\n",
       "    </tr>\n",
       "    <tr>\n",
       "      <th>28</th>\n",
       "      <td>71</td>\n",
       "    </tr>\n",
       "    <tr>\n",
       "      <th>29</th>\n",
       "      <td>60</td>\n",
       "    </tr>\n",
       "    <tr>\n",
       "      <th>...</th>\n",
       "      <td>...</td>\n",
       "    </tr>\n",
       "    <tr>\n",
       "      <th>717</th>\n",
       "      <td>1</td>\n",
       "    </tr>\n",
       "    <tr>\n",
       "      <th>741</th>\n",
       "      <td>1</td>\n",
       "    </tr>\n",
       "    <tr>\n",
       "      <th>744</th>\n",
       "      <td>2</td>\n",
       "    </tr>\n",
       "    <tr>\n",
       "      <th>755</th>\n",
       "      <td>1</td>\n",
       "    </tr>\n",
       "    <tr>\n",
       "      <th>765</th>\n",
       "      <td>1</td>\n",
       "    </tr>\n",
       "    <tr>\n",
       "      <th>778</th>\n",
       "      <td>1</td>\n",
       "    </tr>\n",
       "    <tr>\n",
       "      <th>800</th>\n",
       "      <td>1</td>\n",
       "    </tr>\n",
       "    <tr>\n",
       "      <th>808</th>\n",
       "      <td>1</td>\n",
       "    </tr>\n",
       "    <tr>\n",
       "      <th>820</th>\n",
       "      <td>1</td>\n",
       "    </tr>\n",
       "    <tr>\n",
       "      <th>855</th>\n",
       "      <td>1</td>\n",
       "    </tr>\n",
       "    <tr>\n",
       "      <th>870</th>\n",
       "      <td>1</td>\n",
       "    </tr>\n",
       "    <tr>\n",
       "      <th>879</th>\n",
       "      <td>1</td>\n",
       "    </tr>\n",
       "    <tr>\n",
       "      <th>907</th>\n",
       "      <td>1</td>\n",
       "    </tr>\n",
       "    <tr>\n",
       "      <th>933</th>\n",
       "      <td>1</td>\n",
       "    </tr>\n",
       "    <tr>\n",
       "      <th>971</th>\n",
       "      <td>1</td>\n",
       "    </tr>\n",
       "    <tr>\n",
       "      <th>1068</th>\n",
       "      <td>1</td>\n",
       "    </tr>\n",
       "    <tr>\n",
       "      <th>1094</th>\n",
       "      <td>1</td>\n",
       "    </tr>\n",
       "    <tr>\n",
       "      <th>1113</th>\n",
       "      <td>1</td>\n",
       "    </tr>\n",
       "    <tr>\n",
       "      <th>1178</th>\n",
       "      <td>1</td>\n",
       "    </tr>\n",
       "    <tr>\n",
       "      <th>1180</th>\n",
       "      <td>1</td>\n",
       "    </tr>\n",
       "    <tr>\n",
       "      <th>1238</th>\n",
       "      <td>1</td>\n",
       "    </tr>\n",
       "    <tr>\n",
       "      <th>1256</th>\n",
       "      <td>1</td>\n",
       "    </tr>\n",
       "    <tr>\n",
       "      <th>1655</th>\n",
       "      <td>1</td>\n",
       "    </tr>\n",
       "    <tr>\n",
       "      <th>1656</th>\n",
       "      <td>1</td>\n",
       "    </tr>\n",
       "    <tr>\n",
       "      <th>1754</th>\n",
       "      <td>1</td>\n",
       "    </tr>\n",
       "    <tr>\n",
       "      <th>1988</th>\n",
       "      <td>1</td>\n",
       "    </tr>\n",
       "    <tr>\n",
       "      <th>2291</th>\n",
       "      <td>1</td>\n",
       "    </tr>\n",
       "    <tr>\n",
       "      <th>2478</th>\n",
       "      <td>1</td>\n",
       "    </tr>\n",
       "    <tr>\n",
       "      <th>5347</th>\n",
       "      <td>1</td>\n",
       "    </tr>\n",
       "    <tr>\n",
       "      <th>7754</th>\n",
       "      <td>1</td>\n",
       "    </tr>\n",
       "  </tbody>\n",
       "</table>\n",
       "<p>374 rows × 1 columns</p>\n",
       "</div>"
      ],
      "text/plain": [
       "          title\n",
       "checkins       \n",
       "0          3989\n",
       "1          1398\n",
       "2          1123\n",
       "3           902\n",
       "4           747\n",
       "5           536\n",
       "6           479\n",
       "7           450\n",
       "8           335\n",
       "9           289\n",
       "10          282\n",
       "11          205\n",
       "12          205\n",
       "13          167\n",
       "14          152\n",
       "15          148\n",
       "16          134\n",
       "17          125\n",
       "18          102\n",
       "19          117\n",
       "20          112\n",
       "21           79\n",
       "22           77\n",
       "23           96\n",
       "24           66\n",
       "25           83\n",
       "26           63\n",
       "27           61\n",
       "28           71\n",
       "29           60\n",
       "...         ...\n",
       "717           1\n",
       "741           1\n",
       "744           2\n",
       "755           1\n",
       "765           1\n",
       "778           1\n",
       "800           1\n",
       "808           1\n",
       "820           1\n",
       "855           1\n",
       "870           1\n",
       "879           1\n",
       "907           1\n",
       "933           1\n",
       "971           1\n",
       "1068          1\n",
       "1094          1\n",
       "1113          1\n",
       "1178          1\n",
       "1180          1\n",
       "1238          1\n",
       "1256          1\n",
       "1655          1\n",
       "1656          1\n",
       "1754          1\n",
       "1988          1\n",
       "2291          1\n",
       "2478          1\n",
       "5347          1\n",
       "7754          1\n",
       "\n",
       "[374 rows x 1 columns]"
      ]
     },
     "execution_count": 92,
     "metadata": {},
     "output_type": "execute_result"
    }
   ],
   "source": [
    "a = df.groupby('checkins')['title'].count() # групируем по 'title', т.к. там нет пропусков\n",
    "df_density = pd.DataFrame(a)\n",
    "df_density # распределение числа чекинов"
   ]
  },
  {
   "cell_type": "code",
   "execution_count": 93,
   "metadata": {},
   "outputs": [
    {
     "data": {
      "text/plain": [
       "(282, 12)"
      ]
     },
     "execution_count": 93,
     "metadata": {},
     "output_type": "execute_result"
    }
   ],
   "source": [
    "l = df[df['checkins'] == 10] # прверка вручную правильно ли нашел число объектов у которых 10 чекинов\n",
    "l.shape # вроде правильно"
   ]
  },
  {
   "cell_type": "code",
   "execution_count": 308,
   "metadata": {},
   "outputs": [
    {
     "data": {
      "text/plain": [
       "<matplotlib.axes._subplots.AxesSubplot at 0x7f4f2d64ad90>"
      ]
     },
     "execution_count": 308,
     "metadata": {},
     "output_type": "execute_result"
    },
    {
     "data": {
      "image/png": "[encoded data removed]",
      "text/plain": [
       "<matplotlib.figure.Figure at 0x7f4f2db24910>"
      ]
     },
     "metadata": {},
     "output_type": "display_data"
    },
    {
     "data": {
      "image/png": "[encoded data removed]",
      "text/plain": [
       "<matplotlib.figure.Figure at 0x7f4f2db24990>"
      ]
     },
     "metadata": {},
     "output_type": "display_data"
    },
    {
     "data": {
      "image/png": "[encoded data removed]",
      "text/plain": [
       "<matplotlib.figure.Figure at 0x7f4f2db0d390>"
      ]
     },
     "metadata": {},
     "output_type": "display_data"
    }
   ],
   "source": [
    "#axes = plt.subplots(1, 2, figsize=(14, 5))\n",
    "df_density[0:35].plot(kind='bar') # на первых 35\n",
    "df_density[35:100].plot(kind='bar') # видно постепенное угасание на 35-100\n",
    "df_density[200:500].plot(kind='bar') # видна стабилизация на 200-500"
   ]
  },
  {
   "cell_type": "markdown",
   "metadata": {
    "collapsed": true
   },
   "source": [
    "## 4)."
   ]
  },
  {
   "cell_type": "code",
   "execution_count": 200,
   "metadata": {},
   "outputs": [
    {
     "data": {
      "text/plain": [
       "(10936, 12)"
      ]
     },
     "execution_count": 200,
     "metadata": {},
     "output_type": "execute_result"
    }
   ],
   "source": [
    "df[df.type == 3].shape"
   ]
  },
  {
   "cell_type": "code",
   "execution_count": 334,
   "metadata": {
    "scrolled": false
   },
   "outputs": [
    {
     "data": {
      "text/plain": [
       "<matplotlib.axes._subplots.AxesSubplot at 0x7f4f2c1a3e50>"
      ]
     },
     "execution_count": 334,
     "metadata": {},
     "output_type": "execute_result"
    },
    {
     "data": {
      "image/png": "[encoded data removed]",
      "text/plain": [
       "<matplotlib.figure.Figure at 0x7f4f2ca9fd50>"
      ]
     },
     "metadata": {},
     "output_type": "display_data"
    }
   ],
   "source": [
    "figsize=(14, 14)# постараемся убрать выбросы\n",
    "sns.boxplot(y=df[df.type ==  df['type']][df['checkins'] < 50].checkins, x = df['type'], width = 1.5)"
   ]
  },
  {
   "cell_type": "markdown",
   "metadata": {},
   "source": [
    "## 5)."
   ]
  },
  {
   "cell_type": "code",
   "execution_count": 161,
   "metadata": {
    "collapsed": true
   },
   "outputs": [],
   "source": [
    "convert = lambda x: datetime.datetime.fromtimestamp(x)\n",
    "converted_df = df['created'].apply(convert)"
   ]
  },
  {
   "cell_type": "code",
   "execution_count": 164,
   "metadata": {},
   "outputs": [
    {
     "data": {
      "text/html": [
       "<div>\n",
       "<style>\n",
       "    .dataframe thead tr:only-child th {\n",
       "        text-align: right;\n",
       "    }\n",
       "\n",
       "    .dataframe thead th {\n",
       "        text-align: left;\n",
       "    }\n",
       "\n",
       "    .dataframe tbody tr th {\n",
       "        vertical-align: top;\n",
       "    }\n",
       "</style>\n",
       "<table border=\"1\" class=\"dataframe\">\n",
       "  <thead>\n",
       "    <tr style=\"text-align: right;\">\n",
       "      <th></th>\n",
       "      <th>address</th>\n",
       "      <th>checkins</th>\n",
       "      <th>city</th>\n",
       "      <th>country</th>\n",
       "      <th>created</th>\n",
       "      <th>icon</th>\n",
       "      <th>latitude</th>\n",
       "      <th>longitude</th>\n",
       "      <th>pid</th>\n",
       "      <th>title</th>\n",
       "      <th>type</th>\n",
       "      <th>updated</th>\n",
       "    </tr>\n",
       "  </thead>\n",
       "  <tbody>\n",
       "    <tr>\n",
       "      <th>0</th>\n",
       "      <td>Мячковский б-р 3а</td>\n",
       "      <td>441</td>\n",
       "      <td>1.0</td>\n",
       "      <td>1</td>\n",
       "      <td>2010-08-02 13:39:01</td>\n",
       "      <td>https://vk.com/images/places/clubs.png</td>\n",
       "      <td>55.657941</td>\n",
       "      <td>37.751574</td>\n",
       "      <td>1</td>\n",
       "      <td>Baila Baila</td>\n",
       "      <td>4</td>\n",
       "      <td>1.507325e+09</td>\n",
       "    </tr>\n",
       "    <tr>\n",
       "      <th>1</th>\n",
       "      <td>Дачная 2а</td>\n",
       "      <td>16</td>\n",
       "      <td>123.0</td>\n",
       "      <td>1</td>\n",
       "      <td>2010-08-02 13:39:01</td>\n",
       "      <td>https://vk.com/images/places/clubs.png</td>\n",
       "      <td>53.202017</td>\n",
       "      <td>50.141377</td>\n",
       "      <td>2</td>\n",
       "      <td>Lust</td>\n",
       "      <td>4</td>\n",
       "      <td>1.507325e+09</td>\n",
       "    </tr>\n",
       "    <tr>\n",
       "      <th>2</th>\n",
       "      <td>Лени Голикова 29</td>\n",
       "      <td>7</td>\n",
       "      <td>2.0</td>\n",
       "      <td>1</td>\n",
       "      <td>2010-08-02 13:39:01</td>\n",
       "      <td>https://vk.com/images/places/clubs.png</td>\n",
       "      <td>59.843376</td>\n",
       "      <td>30.231480</td>\n",
       "      <td>3</td>\n",
       "      <td>Тайфун</td>\n",
       "      <td>4</td>\n",
       "      <td>1.486398e+09</td>\n",
       "    </tr>\n",
       "    <tr>\n",
       "      <th>3</th>\n",
       "      <td>Героев Танкограда 63</td>\n",
       "      <td>8</td>\n",
       "      <td>158.0</td>\n",
       "      <td>1</td>\n",
       "      <td>2010-08-02 13:39:01</td>\n",
       "      <td>https://vk.com/images/places/clubs.png</td>\n",
       "      <td>55.174954</td>\n",
       "      <td>61.451611</td>\n",
       "      <td>4</td>\n",
       "      <td>Hollywood</td>\n",
       "      <td>4</td>\n",
       "      <td>1.470157e+09</td>\n",
       "    </tr>\n",
       "    <tr>\n",
       "      <th>4</th>\n",
       "      <td>Мусы Джалиля 14К1</td>\n",
       "      <td>40</td>\n",
       "      <td>99.0</td>\n",
       "      <td>1</td>\n",
       "      <td>2010-08-02 13:39:01</td>\n",
       "      <td>https://vk.com/images/places/clubs.png</td>\n",
       "      <td>54.860834</td>\n",
       "      <td>83.091932</td>\n",
       "      <td>5</td>\n",
       "      <td>Барабас</td>\n",
       "      <td>4</td>\n",
       "      <td>1.502604e+09</td>\n",
       "    </tr>\n",
       "  </tbody>\n",
       "</table>\n",
       "</div>"
      ],
      "text/plain": [
       "                address  checkins   city  country             created  \\\n",
       "0     Мячковский б-р 3а       441    1.0        1 2010-08-02 13:39:01   \n",
       "1             Дачная 2а        16  123.0        1 2010-08-02 13:39:01   \n",
       "2      Лени Голикова 29         7    2.0        1 2010-08-02 13:39:01   \n",
       "3  Героев Танкограда 63         8  158.0        1 2010-08-02 13:39:01   \n",
       "4     Мусы Джалиля 14К1        40   99.0        1 2010-08-02 13:39:01   \n",
       "\n",
       "                                     icon   latitude  longitude  pid  \\\n",
       "0  https://vk.com/images/places/clubs.png  55.657941  37.751574    1   \n",
       "1  https://vk.com/images/places/clubs.png  53.202017  50.141377    2   \n",
       "2  https://vk.com/images/places/clubs.png  59.843376  30.231480    3   \n",
       "3  https://vk.com/images/places/clubs.png  55.174954  61.451611    4   \n",
       "4  https://vk.com/images/places/clubs.png  54.860834  83.091932    5   \n",
       "\n",
       "         title  type       updated  \n",
       "0  Baila Baila     4  1.507325e+09  \n",
       "1         Lust     4  1.507325e+09  \n",
       "2       Тайфун     4  1.486398e+09  \n",
       "3    Hollywood     4  1.470157e+09  \n",
       "4      Барабас     4  1.502604e+09  "
      ]
     },
     "execution_count": 164,
     "metadata": {},
     "output_type": "execute_result"
    }
   ],
   "source": [
    "df['created'] = converted_df\n",
    "df.head()"
   ]
  },
  {
   "cell_type": "code",
   "execution_count": 173,
   "metadata": {},
   "outputs": [
    {
     "data": {
      "text/plain": [
       "(15000, 12)"
      ]
     },
     "execution_count": 173,
     "metadata": {},
     "output_type": "execute_result"
    }
   ],
   "source": [
    "df.shape"
   ]
  },
  {
   "cell_type": "code",
   "execution_count": 175,
   "metadata": {},
   "outputs": [
    {
     "name": "stdout",
     "output_type": "stream",
     "text": [
      "15000\n"
     ]
    }
   ],
   "source": [
    "sum_=0 \n",
    "for i in range(15000):\n",
    "    if((datetime.datetime.now() - df['created'][i]).days > 365):\n",
    "        sum_ += 1\n",
    "        \n",
    "print sum_"
   ]
  },
  {
   "cell_type": "markdown",
   "metadata": {
    "collapsed": true
   },
   "source": [
    "Все места были созданы более года назад"
   ]
  }
 ],
 "metadata": {
  "anaconda-cloud": {},
  "kernelspec": {
   "display_name": "Python 2",
   "language": "python",
   "name": "python2"
  },
  "language_info": {
   "codemirror_mode": {
    "name": "ipython",
    "version": 2
   },
   "file_extension": ".py",
   "mimetype": "text/x-python",
   "name": "python",
   "nbconvert_exporter": "python",
   "pygments_lexer": "ipython2",
   "version": "2.7.14"
  }
 },
 "nbformat": 4,
 "nbformat_minor": 1
}
